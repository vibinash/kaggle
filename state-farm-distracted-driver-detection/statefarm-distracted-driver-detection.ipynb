{
 "cells": [
  {
   "cell_type": "markdown",
   "metadata": {},
   "source": [
    "# StateFarm Distracted Driver Detection"
   ]
  },
  {
   "cell_type": "code",
   "execution_count": 35,
   "metadata": {
    "collapsed": false
   },
   "outputs": [
    {
     "name": "stdout",
     "output_type": "stream",
     "text": [
      "/home/ubuntu/kaggle/state-farm-distracted-driver-detection\n"
     ]
    },
    {
     "data": {
      "text/plain": [
       "u'/home/ubuntu/kaggle/state-farm-distracted-driver-detection'"
      ]
     },
     "execution_count": 35,
     "metadata": {},
     "output_type": "execute_result"
    }
   ],
   "source": [
    "%cd /home/ubuntu/kaggle/state-farm-distracted-driver-detection\n",
    "# Make sure you are in the main directory (state-farm-distracted-driver-detection)\n",
    "%pwd"
   ]
  },
  {
   "cell_type": "code",
   "execution_count": 36,
   "metadata": {
    "collapsed": false
   },
   "outputs": [],
   "source": [
    "# Create references to key directories\n",
    "import os, sys\n",
    "from glob import glob\n",
    "from matplotlib import pyplot as plt\n",
    "import numpy as np\n",
    "np.set_printoptions(precision=4, linewidth=100)\n",
    "current_dir = os.getcwd()\n",
    "CHALLENGE_HOME_DIR = current_dir\n",
    "DATA_HOME_DIR = current_dir+'/data'"
   ]
  },
  {
   "cell_type": "code",
   "execution_count": 5,
   "metadata": {
    "collapsed": false
   },
   "outputs": [],
   "source": [
    "#Allow relative imports to directories\n",
    "sys.path.insert(1, os.path.join(sys.path[0], '..'))\n",
    "\n",
    "#import modules\n",
    "from utils import *\n",
    "from utils.vgg16 import Vgg16\n",
    "\n",
    "#Instantiate plotting tool\n",
    "%matplotlib inline"
   ]
  },
  {
   "cell_type": "markdown",
   "metadata": {},
   "source": [
    "## Create Validation and Sample Sets"
   ]
  },
  {
   "cell_type": "code",
   "execution_count": 6,
   "metadata": {
    "collapsed": false
   },
   "outputs": [
    {
     "name": "stdout",
     "output_type": "stream",
     "text": [
      "/home/ubuntu/kaggle/state-farm-distracted-driver-detection/data\n"
     ]
    }
   ],
   "source": [
    "#Create directories\n",
    "%cd $DATA_HOME_DIR\n",
    "%mkdir valid\n",
    "%mkdir results\n",
    "%mkdir -p sample/train\n",
    "%mkdir -p sample/test\n",
    "%mkdir -p sample/valid\n",
    "%mkdir -p sample/results\n",
    "%mkdir -p test/unknown"
   ]
  },
  {
   "cell_type": "code",
   "execution_count": 7,
   "metadata": {
    "collapsed": false
   },
   "outputs": [
    {
     "name": "stdout",
     "output_type": "stream",
     "text": [
      "/home/ubuntu/kaggle/state-farm-distracted-driver-detection/data/valid\n"
     ]
    }
   ],
   "source": [
    "# Create folders for valid/\n",
    "%cd $DATA_HOME_DIR/valid/\n",
    "!for i in `seq 0 9`; do mkdir \"c\"$i; done\n",
    "\n",
    "# Create folders for sample/train/\n",
    "%cd $DATA_HOME_DIR/sample/train\n",
    "!for i in `seq 0 9`; do mkdir \"c\"$i; done\n",
    "\n",
    "#Create folders for sample/valid\n",
    "%cd $DATA_HOME_DIR/sample/valid\n",
    "!for i in `seq 0 9`; do mkdir \"c\"$i; done"
   ]
  },
  {
   "cell_type": "code",
   "execution_count": 37,
   "metadata": {
    "collapsed": false
   },
   "outputs": [
    {
     "name": "stdout",
     "output_type": "stream",
     "text": [
      "/home/ubuntu/kaggle/state-farm-distracted-driver-detection/data\n"
     ]
    }
   ],
   "source": [
    "# Move images to validation sets\n",
    "%cd $DATA_HOME_DIR"
   ]
  },
  {
   "cell_type": "code",
   "execution_count": 39,
   "metadata": {
    "collapsed": false
   },
   "outputs": [],
   "source": [
    "for i in range(10):\n",
    "    directory = DATA_HOME_DIR + '/train/c'+ str(i)\n",
    "    l = os.listdir(directory)\n",
    "    shuf = np.random.permutation(l)\n",
    "    for j in range(1000): os.rename(directory+'/'+shuf[j], DATA_HOME_DIR+'/valid/c'+str(i) + '/' + shuf[j])"
   ]
  },
  {
   "cell_type": "code",
   "execution_count": 40,
   "metadata": {
    "collapsed": false
   },
   "outputs": [],
   "source": [
    "from shutil import copyfile"
   ]
  },
  {
   "cell_type": "code",
   "execution_count": 41,
   "metadata": {
    "collapsed": false
   },
   "outputs": [
    {
     "name": "stdout",
     "output_type": "stream",
     "text": [
      "/home/ubuntu/kaggle/state-farm-distracted-driver-detection/data\n"
     ]
    }
   ],
   "source": [
    "# Copy images from train to sample/train and sample/valid sets\n",
    "%cd $DATA_HOME_DIR"
   ]
  },
  {
   "cell_type": "code",
   "execution_count": 44,
   "metadata": {
    "collapsed": true
   },
   "outputs": [],
   "source": [
    "for i in range(10):\n",
    "    directory = DATA_HOME_DIR + '/train/c'+ str(i)\n",
    "    l = os.listdir(directory)\n",
    "    shuf = np.random.permutation(l)\n",
    "    for j in range(100): copyfile(directory+'/'+shuf[j], DATA_HOME_DIR+'/sample/train/c'+str(i) + '/' + shuf[j])"
   ]
  },
  {
   "cell_type": "code",
   "execution_count": 45,
   "metadata": {
    "collapsed": true
   },
   "outputs": [],
   "source": [
    "# Copy images from valid to sample/train and sample/valid sets\n",
    "for i in range(10):\n",
    "    directory = DATA_HOME_DIR + '/valid/c'+ str(i)\n",
    "    l = os.listdir(directory)\n",
    "    shuf = np.random.permutation(l)\n",
    "    for j in range(100): copyfile(directory+'/'+shuf[j], DATA_HOME_DIR+'/sample/valid/c'+str(i) + '/' + shuf[j])"
   ]
  },
  {
   "cell_type": "code",
   "execution_count": 57,
   "metadata": {
    "collapsed": true
   },
   "outputs": [],
   "source": [
    "# Move a sample of test to sample/test\n",
    "\n",
    "directory = DATA_HOME_DIR + '/test/'\n",
    "l = os.listdir(directory)\n",
    "shuf = np.random.permutation(l)\n",
    "for j in range(1000): copyfile(directory+'/'+shuf[j], DATA_HOME_DIR+'/sample/test/'+ shuf[j])"
   ]
  },
  {
   "cell_type": "markdown",
   "metadata": {},
   "source": [
    "## Create a Unkown class for the test set"
   ]
  },
  {
   "cell_type": "code",
   "execution_count": 46,
   "metadata": {
    "collapsed": false
   },
   "outputs": [
    {
     "name": "stdout",
     "output_type": "stream",
     "text": [
      "/home/ubuntu/kaggle/state-farm-distracted-driver-detection/data/test\n"
     ]
    }
   ],
   "source": [
    "%cd $DATA_HOME_DIR/test\n",
    "%mv *.jpg unknown/"
   ]
  },
  {
   "cell_type": "markdown",
   "metadata": {},
   "source": [
    "## Finetuning and Training"
   ]
  },
  {
   "cell_type": "code",
   "execution_count": 63,
   "metadata": {
    "collapsed": false
   },
   "outputs": [
    {
     "name": "stdout",
     "output_type": "stream",
     "text": [
      "/home/ubuntu/kaggle/state-farm-distracted-driver-detection/data\n"
     ]
    }
   ],
   "source": [
    "%cd $DATA_HOME_DIR\n",
    "\n",
    "#Set path to sample/ path if desired\n",
    "path = DATA_HOME_DIR + '/sample'\n",
    "test_path = path + '/test/' #We use all the test data\n",
    "results_path= path + '/results/'\n",
    "train_path=path + '/train/'\n",
    "valid_path=path + '/valid/'"
   ]
  },
  {
   "cell_type": "code",
   "execution_count": 64,
   "metadata": {
    "collapsed": true
   },
   "outputs": [],
   "source": [
    "#import Vgg16 helper class\n",
    "vgg = Vgg16()"
   ]
  },
  {
   "cell_type": "code",
   "execution_count": 68,
   "metadata": {
    "collapsed": true
   },
   "outputs": [],
   "source": [
    "#Set constants. You can experiment with no_of_epochs to improve the model\n",
    "batch_size=64\n",
    "no_of_epochs=20"
   ]
  },
  {
   "cell_type": "code",
   "execution_count": 66,
   "metadata": {
    "collapsed": false
   },
   "outputs": [
    {
     "name": "stdout",
     "output_type": "stream",
     "text": [
      "Found 1000 images belonging to 10 classes.\n",
      "Found 1000 images belonging to 10 classes.\n"
     ]
    }
   ],
   "source": [
    "#Finetune the model\n",
    "batches = vgg.get_batches(train_path, batch_size=batch_size)\n",
    "val_batches = vgg.get_batches(valid_path, batch_size=batch_size*2)\n",
    "vgg.finetune(batches)\n",
    "\n",
    "vgg.model.optimizer.lr = 0.01"
   ]
  },
  {
   "cell_type": "code",
   "execution_count": 69,
   "metadata": {
    "collapsed": false
   },
   "outputs": [
    {
     "name": "stdout",
     "output_type": "stream",
     "text": [
      "Running epoch: 0\n",
      "Epoch 1/1\n",
      "1000/1000 [==============================] - 53s - loss: 10.7241 - acc: 0.2530 - val_loss: 9.9149 - val_acc: 0.3180\n",
      "Running epoch: 1\n",
      "Epoch 1/1\n",
      "1000/1000 [==============================] - 53s - loss: 10.9520 - acc: 0.2520 - val_loss: 10.1562 - val_acc: 0.3060\n",
      "Running epoch: 2\n",
      "Epoch 1/1\n",
      "1000/1000 [==============================] - 54s - loss: 11.0160 - acc: 0.2520 - val_loss: 10.3218 - val_acc: 0.3080\n",
      "Running epoch: 3\n",
      "Epoch 1/1\n",
      "1000/1000 [==============================] - 54s - loss: 10.7834 - acc: 0.2750 - val_loss: 10.1912 - val_acc: 0.2990\n",
      "Running epoch: 4\n",
      "Epoch 1/1\n",
      "1000/1000 [==============================] - 53s - loss: 11.0091 - acc: 0.2570 - val_loss: 10.3288 - val_acc: 0.2970\n",
      "Running epoch: 5\n",
      "Epoch 1/1\n",
      "1000/1000 [==============================] - 53s - loss: 10.7376 - acc: 0.2870 - val_loss: 10.2916 - val_acc: 0.3020\n",
      "Running epoch: 6\n",
      "Epoch 1/1\n",
      "1000/1000 [==============================] - 53s - loss: 10.9899 - acc: 0.2750 - val_loss: 10.4523 - val_acc: 0.3070\n",
      "Running epoch: 7\n",
      "Epoch 1/1\n",
      "1000/1000 [==============================] - 53s - loss: 10.2672 - acc: 0.3210 - val_loss: 9.9851 - val_acc: 0.3270\n",
      "Running epoch: 8\n",
      "Epoch 1/1\n",
      "1000/1000 [==============================] - 54s - loss: 10.3343 - acc: 0.3130 - val_loss: 10.0082 - val_acc: 0.3400\n",
      "Running epoch: 9\n",
      "Epoch 1/1\n",
      "1000/1000 [==============================] - 54s - loss: 10.6486 - acc: 0.2880 - val_loss: 10.4315 - val_acc: 0.3050\n",
      "Running epoch: 10\n",
      "Epoch 1/1\n",
      "1000/1000 [==============================] - 54s - loss: 10.7809 - acc: 0.2770 - val_loss: 10.2556 - val_acc: 0.3320\n",
      "Running epoch: 11\n",
      "Epoch 1/1\n",
      "1000/1000 [==============================] - 54s - loss: 10.5496 - acc: 0.2900 - val_loss: 10.2154 - val_acc: 0.3280\n",
      "Running epoch: 12\n",
      "Epoch 1/1\n",
      "1000/1000 [==============================] - 54s - loss: 10.6227 - acc: 0.2930 - val_loss: 10.2651 - val_acc: 0.3220\n",
      "Running epoch: 13\n",
      "Epoch 1/1\n",
      "1000/1000 [==============================] - 54s - loss: 10.5803 - acc: 0.3060 - val_loss: 9.9674 - val_acc: 0.3460\n",
      "Running epoch: 14\n",
      "Epoch 1/1\n",
      "1000/1000 [==============================] - 54s - loss: 10.3495 - acc: 0.3240 - val_loss: 10.1247 - val_acc: 0.3460\n",
      "Running epoch: 15\n",
      "Epoch 1/1\n",
      "1000/1000 [==============================] - 54s - loss: 10.4386 - acc: 0.3140 - val_loss: 10.3884 - val_acc: 0.3120\n",
      "Running epoch: 16\n",
      "Epoch 1/1\n",
      "1000/1000 [==============================] - 54s - loss: 10.5727 - acc: 0.2980 - val_loss: 9.9893 - val_acc: 0.3580\n",
      "Running epoch: 17\n",
      "Epoch 1/1\n",
      "1000/1000 [==============================] - 53s - loss: 10.4307 - acc: 0.3180 - val_loss: 10.1058 - val_acc: 0.3500\n",
      "Running epoch: 18\n",
      "Epoch 1/1\n",
      "1000/1000 [==============================] - 54s - loss: 10.7997 - acc: 0.2990 - val_loss: 10.3640 - val_acc: 0.3250\n",
      "Running epoch: 19\n",
      "Epoch 1/1\n",
      "1000/1000 [==============================] - 54s - loss: 10.6108 - acc: 0.2970 - val_loss: 10.2233 - val_acc: 0.3330\n",
      "Completed 20 fit operations\n"
     ]
    }
   ],
   "source": [
    "#Pass in the validation dataset to the fit() method\n",
    "#For each epoch we test our model against the validation set\n",
    "latest_weights_filename = None\n",
    "for epoch in range(no_of_epochs):\n",
    "    print \"Running epoch: %d\" % epoch\n",
    "    vgg.fit(batches, val_batches, nb_epoch=1)\n",
    "    latest_weights_filename = 'ft%d.h5' % epoch\n",
    "    vgg.model.save_weights(results_path+latest_weights_filename)\n",
    "print \"Completed %s fit operations\" % no_of_epochs"
   ]
  },
  {
   "cell_type": "markdown",
   "metadata": {},
   "source": [
    "## Generate Predictions"
   ]
  },
  {
   "cell_type": "markdown",
   "metadata": {},
   "source": [
    "Make predictions on the test data!"
   ]
  },
  {
   "cell_type": "code",
   "execution_count": 75,
   "metadata": {
    "collapsed": false
   },
   "outputs": [
    {
     "name": "stdout",
     "output_type": "stream",
     "text": [
      "Found 0 images belonging to 0 classes.\n"
     ]
    },
    {
     "name": "stderr",
     "output_type": "stream",
     "text": [
      "Exception in thread Thread-108:\n",
      "Traceback (most recent call last):\n",
      "  File \"/home/ubuntu/anaconda2/lib/python2.7/threading.py\", line 801, in __bootstrap_inner\n",
      "    self.run()\n",
      "  File \"/home/ubuntu/anaconda2/lib/python2.7/threading.py\", line 754, in run\n",
      "    self.__target(*self.__args, **self.__kwargs)\n",
      "  File \"/home/ubuntu/anaconda2/lib/python2.7/site-packages/keras/engine/training.py\", line 425, in data_generator_task\n",
      "    generator_output = next(generator)\n",
      "  File \"/home/ubuntu/anaconda2/lib/python2.7/site-packages/keras/preprocessing/image.py\", line 593, in next\n",
      "    index_array, current_index, current_batch_size = next(self.index_generator)\n",
      "  File \"/home/ubuntu/anaconda2/lib/python2.7/site-packages/keras/preprocessing/image.py\", line 441, in _flow_index\n",
      "    current_index = (self.batch_index * batch_size) % N\n",
      "ZeroDivisionError: integer division or modulo by zero\n",
      "\n"
     ]
    }
   ],
   "source": [
    "batches, preds = vgg.test(test_path, batch_size = batch_size*2)"
   ]
  },
  {
   "cell_type": "code",
   "execution_count": 74,
   "metadata": {
    "collapsed": false
   },
   "outputs": [
    {
     "data": {
      "text/plain": [
       "'/home/ubuntu/kaggle/state-farm-distracted-driver-detection/data/sample/test/'"
      ]
     },
     "execution_count": 74,
     "metadata": {},
     "output_type": "execute_result"
    }
   ],
   "source": [
    "test_path"
   ]
  },
  {
   "cell_type": "code",
   "execution_count": null,
   "metadata": {
    "collapsed": true
   },
   "outputs": [],
   "source": [
    "#For every image, vgg.test() generates two probabilities \n",
    "#based on how we've ordered the train directories.\n",
    "print preds[:5]\n",
    "\n",
    "filenames = batches.filenames\n",
    "print filenames[:5]"
   ]
  },
  {
   "cell_type": "code",
   "execution_count": null,
   "metadata": {
    "collapsed": true
   },
   "outputs": [],
   "source": [
    "#Verify the column ordering by viewing some images\n",
    "from PIL import Image\n",
    "Image.open(test_path + filenames[2])"
   ]
  },
  {
   "cell_type": "code",
   "execution_count": null,
   "metadata": {
    "collapsed": true
   },
   "outputs": [],
   "source": [
    "#Save our test results arrays so we can use them again later\n",
    "save_array(results_path + 'test_preds.dat', preds)\n",
    "save_array(results_path + 'filenames.dat', filenames)"
   ]
  },
  {
   "cell_type": "code",
   "execution_count": null,
   "metadata": {
    "collapsed": true
   },
   "outputs": [],
   "source": []
  }
 ],
 "metadata": {
  "anaconda-cloud": {},
  "kernelspec": {
   "display_name": "Python [conda root]",
   "language": "python",
   "name": "conda-root-py"
  },
  "language_info": {
   "codemirror_mode": {
    "name": "ipython",
    "version": 2
   },
   "file_extension": ".py",
   "mimetype": "text/x-python",
   "name": "python",
   "nbconvert_exporter": "python",
   "pygments_lexer": "ipython2",
   "version": "2.7.12"
  }
 },
 "nbformat": 4,
 "nbformat_minor": 1
}
